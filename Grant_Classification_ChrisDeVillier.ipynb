{
 "cells": [
  {
   "cell_type": "markdown",
   "metadata": {},
   "source": [
    "# Prediction of grant application "
   ]
  },
  {
   "cell_type": "markdown",
   "metadata": {},
   "source": [
    "## Data processing functions"
   ]
  },
  {
   "cell_type": "code",
   "execution_count": 1,
   "metadata": {
    "collapsed": false
   },
   "outputs": [
    {
     "name": "stderr",
     "output_type": "stream",
     "text": [
      "C:\\Users\\Chris De Villier\\Anaconda3\\lib\\site-packages\\sklearn\\cross_validation.py:44: DeprecationWarning: This module was deprecated in version 0.18 in favor of the model_selection module into which all the refactored classes and functions are moved. Also note that the interface of the new CV iterators are different from that of this module. This module will be removed in 0.20.\n",
      "  \"This module will be removed in 0.20.\", DeprecationWarning)\n",
      "C:\\Users\\Chris De Villier\\Anaconda3\\lib\\site-packages\\sklearn\\grid_search.py:43: DeprecationWarning: This module was deprecated in version 0.18 in favor of the model_selection module into which all the refactored classes and functions are moved. This module will be removed in 0.20.\n",
      "  DeprecationWarning)\n"
     ]
    }
   ],
   "source": [
    "import numpy as np\n",
    "import pandas as pd\n",
    "\n",
    "#\n",
    "# Contigency for persons\n",
    "#\n",
    "# build the list of all unique values of a given spread column, as a tuple\n",
    "def process_column(data, prefix, nb_max):\n",
    "    unique_values = set([])\n",
    "    for i in range(1, nb_max+1):\n",
    "        unique_values.update(data[prefix+str(i)].unique())\n",
    "    return tuple(unique_values)\n",
    "\n",
    "# Build a dataframe with contingecy frequencies from a given spread column\n",
    "def add_contigency(prefix, nb_max, unique_values, add_cardinal, keep_nan):\n",
    "    nb_unique_values = len(unique_values)\n",
    "    has_nans = np.nan in unique_values\n",
    "    nan_index = unique_values.index(np.nan)\n",
    "    new_feature_labels = [prefix+str(value) for value in unique_values]\n",
    "    if has_nans and not keep_nan:\n",
    "        new_feature_labels.pop(nan_index)\n",
    "    if add_cardinal:\n",
    "        new_feature_labels.append(\"cardinal_\"+prefix)\n",
    "    def nested_func(x):\n",
    "        values_frequency = [0]*nb_unique_values\n",
    "        for i in range(1, nb_max+1):\n",
    "            values_frequency[unique_values.index(x[prefix+str(i)])] += 1\n",
    "        if has_nans:\n",
    "            values_frequency[nan_index] = 0\n",
    "            if not keep_nan:\n",
    "                values_frequency.pop(nan_index)\n",
    "        summe = sum(values_frequency)\n",
    "        if summe != 0:\n",
    "            values_frequency = [value/summe for value in values_frequency]\n",
    "        if add_cardinal:\n",
    "            values_frequency.append(summe)\n",
    "        return pd.Series(values_frequency, index=new_feature_labels)\n",
    "    return nested_func\n",
    "\n",
    "# Build a dataframe with contingecy frequencies from a given spread column\n",
    "def build_contigency(data, prefix, nb_max, add_cardinal=False, keep_nan=False):\n",
    "    unique_values = process_column(data, prefix, nb_max)\n",
    "    return unique_values, data.apply(add_contigency(prefix, nb_max, unique_values, add_cardinal, keep_nan), axis=1, raw=True)\n",
    "\n",
    "#\n",
    "# aggregations for person\n",
    "#\n",
    "# Build a dataframe with contingecy frequencies from a given spread column\n",
    "def add_aggregation(prefixes, nb_max, methods_to_apply, methods_to_apply_labels):\n",
    "    feature_names_by_prefix = [[prefix+str(i) for i in range(1, nb_max+1)] for prefix in prefixes]\n",
    "    new_feature_labels_by_prefix = [[label_prefix+prefix for label_prefix in methods_to_apply_labels] for prefix in prefixes]\n",
    "    flat_new_labels = [new_feature_label for new_feature_labels in new_feature_labels_by_prefix for new_feature_label in new_feature_labels]\n",
    "    def nested_func(x):\n",
    "        values_by_prefix = [\n",
    "            [x[feature_name] for feature_name in feature_names if np.isreal(x[feature_name]) and not np.isnan(x[feature_name])]\n",
    "            for feature_names in feature_names_by_prefix\n",
    "        ]\n",
    "        aggregated_values_by_prefix = [[method(values) for method in methods_to_apply] if len(values) > 0 else [np.nan]*len(methods_to_apply) for values in values_by_prefix]\n",
    "        return pd.Series(\n",
    "            data=[aggregated_value for aggregated_values in aggregated_values_by_prefix for aggregated_value in aggregated_values], \n",
    "            index=flat_new_labels\n",
    "        )\n",
    "    return nested_func\n",
    "# Build a dataframe with contingecy frequencies from a given spread column\n",
    "def build_aggregation(data, prefix, nb_max, methods_to_apply=[np.mean, np.max, np.min], methods_to_apply_labels=[\"mean_\", \"max_\", \"min_\"]):\n",
    "    return data.apply(add_aggregation(prefix, nb_max, methods_to_apply, methods_to_apply_labels), axis=1, raw=True)\n",
    "\n",
    "#\n",
    "# RFCD & SEO\n",
    "#\n",
    "def rfcd_codes(data, prefix, nb_max, length):\n",
    "    unique_values = set([])\n",
    "    for i in range(1, nb_max+1):\n",
    "        unique_values.update([str(code)[:length] if not np.isreal(code) and code != \"0\" else np.nan for code in data[prefix+str(i)].unique()])\n",
    "    return tuple(unique_values)\n",
    "\n",
    "# Build a dataframe with contingecy frequencies from a given spread column\n",
    "def add_rfcd_aggregation(prefix1, prefix2, nb_max, unique_values, add_cardinal, suffix, length, keep_nan):\n",
    "    nb_unique_values = len(unique_values)\n",
    "    has_nans = np.nan in unique_values\n",
    "    nan_index = unique_values.index(np.nan)\n",
    "    new_feature_labels = [prefix2+str(value)+suffix for value in unique_values]\n",
    "    if has_nans and not keep_nan:\n",
    "        new_feature_labels.pop(nan_index)\n",
    "    if add_cardinal:\n",
    "        new_feature_labels.append(\"cardinal_\"+prefix2)\n",
    "    def nested_func(x):\n",
    "        values_percentage = [0]*nb_unique_values\n",
    "        cardinal = 0\n",
    "        for i in range(1, nb_max+1):\n",
    "            considered_value = x[prefix1+str(i)]\n",
    "            current_value =  np.nan\n",
    "            if not np.isreal(considered_value) and considered_value != '0':\n",
    "                current_value = str(considered_value)[:length]\n",
    "                cardinal += 1\n",
    "            values_percentage[unique_values.index(current_value)] += x[prefix2+str(i)]/100.0\n",
    "        if has_nans:\n",
    "            values_percentage[nan_index] = 0\n",
    "            if not keep_nan:\n",
    "                values_percentage.pop(nan_index)\n",
    "        if add_cardinal:\n",
    "            values_percentage.append(cardinal)\n",
    "        return pd.Series(values_percentage, index=new_feature_labels)\n",
    "    return nested_func\n",
    "\n",
    "# Build a dataframe with contingecy frequencies from a given spread column\n",
    "def build_rfcd_aggregation(data, prefix1, prefix2, nb_max, length, add_cardinal=True, suffix=\"x\", keep_nan=False):\n",
    "    unique_values = rfcd_codes(data, prefix1, nb_max, length)\n",
    "    return unique_values, data.apply(add_rfcd_aggregation(prefix1, prefix2, nb_max, unique_values, add_cardinal, suffix, length, keep_nan), axis=1, raw=True)\n",
    "\n",
    "#\n",
    "# Parameters Search\n",
    "#\n",
    "from sklearn.grid_search import ParameterGrid\n",
    "\n",
    "def grid_search_no_cv(parameters, X_train, X_test, y_train, y_test, classifier, parallel=True):\n",
    "\n",
    "    grid_search = ParameterGrid(parameters)\n",
    "    best_score = 0\n",
    "    best_params = {}\n",
    "\n",
    "    nb_gridsearch_folds = len(grid_search)\n",
    "    for index, param in enumerate(grid_search):\n",
    "        if parallel:\n",
    "            current_classifier = classifier(**param, n_jobs=7)\n",
    "        else:\n",
    "            current_classifier = classifier(**param)\n",
    "        prediction_proba = current_classifier.fit(X_train, y_train).predict_proba(X_test)\n",
    "        current_score = roc_auc_score(np.array(y_test.values), prediction_proba[:, 1])\n",
    "        flag_best = \" \"\n",
    "        if current_score > best_score:\n",
    "            best_score = current_score\n",
    "            best_params = param\n",
    "            flag_best = \"*\"\n",
    "        print(flag_best+\" %2d/%d | %f | %s\" %(index+1, nb_gridsearch_folds, current_score, str(param)))\n",
    "    return best_score, best_params"
   ]
  },
  {
   "cell_type": "markdown",
   "metadata": {},
   "source": [
    "# Importing data"
   ]
  },
  {
   "cell_type": "code",
   "execution_count": 2,
   "metadata": {
    "collapsed": false,
    "scrolled": true
   },
   "outputs": [
    {
     "data": {
      "text/plain": [
       "Grant.Application.ID                        object\n",
       "Grant.Status                                object\n",
       "Sponsor.Code                                object\n",
       "Grant.Category.Code                         object\n",
       "Contract.Value.Band...see.note.A            object\n",
       "Start.date                                  object\n",
       "RFCD.Code.1                                 object\n",
       "RFCD.Percentage.1                          float64\n",
       "RFCD.Code.2                                 object\n",
       "RFCD.Percentage.2                          float64\n",
       "RFCD.Code.3                                 object\n",
       "RFCD.Percentage.3                          float64\n",
       "RFCD.Code.4                                 object\n",
       "RFCD.Percentage.4                          float64\n",
       "RFCD.Code.5                                 object\n",
       "RFCD.Percentage.5                          float64\n",
       "SEO.Code.1                                  object\n",
       "SEO.Percentage.1                           float64\n",
       "SEO.Code.2                                  object\n",
       "SEO.Percentage.2                           float64\n",
       "SEO.Code.3                                  object\n",
       "SEO.Percentage.3                           float64\n",
       "SEO.Code.4                                  object\n",
       "SEO.Percentage.4                           float64\n",
       "SEO.Code.5                                  object\n",
       "SEO.Percentage.5                           float64\n",
       "Person.ID.1                                 object\n",
       "Role.1                                      object\n",
       "Year.of.Birth.1                            float64\n",
       "Country.of.Birth.1                          object\n",
       "                                            ...   \n",
       "Year.of.Birth.14                           float64\n",
       "Country.of.Birth.14                         object\n",
       "Home.Language.14                            object\n",
       "Dept.No..14                                 object\n",
       "Faculty.No..14                              object\n",
       "With.PHD.14                                 object\n",
       "No..of.Years.in.Uni.at.Time.of.Grant.14     object\n",
       "Number.of.Successful.Grant.14              float64\n",
       "Number.of.Unsuccessful.Grant.14            float64\n",
       "A..14                                      float64\n",
       "A.14                                       float64\n",
       "B.14                                       float64\n",
       "C.14                                       float64\n",
       "Person.ID.15                                object\n",
       "Role.15                                     object\n",
       "Year.of.Birth.15                           float64\n",
       "Country.of.Birth.15                         object\n",
       "Home.Language.15                            object\n",
       "Dept.No..15                                 object\n",
       "Faculty.No..15                              object\n",
       "With.PHD.15                                 object\n",
       "No..of.Years.in.Uni.at.Time.of.Grant.15     object\n",
       "Number.of.Successful.Grant.15              float64\n",
       "Number.of.Unsuccessful.Grant.15            float64\n",
       "A..15                                      float64\n",
       "A.15                                       float64\n",
       "B.15                                       float64\n",
       "C.15                                       float64\n",
       "Year                                       float64\n",
       "Month                                      float64\n",
       "dtype: object"
      ]
     },
     "execution_count": 2,
     "metadata": {},
     "output_type": "execute_result"
    }
   ],
   "source": [
    "data = pd.read_csv(r\"C:\\Users\\Chris De Villier\\Desktop\\DSR08\\MiniCompetition\\data\\unimelb_training.csv\", header=0, dtype=\"str\")\n",
    "data = data.drop(\"Unnamed: 251\", axis=1)\n",
    "data[\"Year\"] = data[\"Start.date\"].map(lambda x: float(x.split(\"/\")[2]))\n",
    "data[\"Month\"] = data[\"Start.date\"].map(lambda x: float(x.split(\"/\")[1]))\n",
    "\n",
    "\n",
    "numerical_data_feature_category = [\n",
    "    (\"RFCD.Percentage.\", 5),\n",
    "    (\"SEO.Percentage.\", 5), \n",
    "    (\"Year.of.Birth.\", 15),\n",
    "    (\"Number.of.Successful.Grant.\", 15),\n",
    "    (\"Number.of.Unsuccessful.Grant.\", 15),\n",
    "    (\"A..\", 15),\n",
    "    (\"A.\", 15),\n",
    "    (\"B.\", 15),\n",
    "    (\"C.\", 15)\n",
    "]\n",
    "\n",
    "for feature_name, feature_range in numerical_data_feature_category:\n",
    "    numerical_data_features = [feature_name+str(i) for i in range(1, feature_range+1)]\n",
    "    for numerical_data_feature in numerical_data_features:\n",
    "        data[numerical_data_feature] = data[numerical_data_feature].astype(float)\n",
    "\n",
    "data.dtypes"
   ]
  },
  {
   "cell_type": "markdown",
   "metadata": {},
   "source": [
    "## Adding new feature: with.phd.value"
   ]
  },
  {
   "cell_type": "code",
   "execution_count": 3,
   "metadata": {
    "collapsed": false
   },
   "outputs": [],
   "source": [
    "# New feature for each person: Ratio of successfull grants\n",
    "\n",
    "def add_phd_value():\n",
    "    roles_features_label = [\"Role.\" + str(index) for index in range(1, 16)]\n",
    "    features_labels = [\"With.PHD.\" + str(index) for index in range(1, 16)]\n",
    "    new_features_labels = [\"With.PHD.Sum.\", \"With.PHD.Ratio.\"]\n",
    "    def nested(x):\n",
    "        values = []\n",
    "        for index, feature in enumerate(features_labels):\n",
    "            if x[feature] == 'Yes ':\n",
    "                values.append(1)\n",
    "            elif not np.isreal(x[roles_features_label[index]]):\n",
    "                values.append(0)\n",
    "            if len(values) == 0:\n",
    "                values.append(0)\n",
    "        return pd.Series([sum(values), np.mean(values)], index=new_features_labels)\n",
    "    return nested\n",
    "            \n",
    "\n",
    "data = data.join(data.apply(add_phd_value(), axis=1, raw=True))"
   ]
  },
  {
   "cell_type": "markdown",
   "metadata": {},
   "source": [
    "# Contigency for persons: Role / Number of years at uni at time of grant / Country of birth"
   ]
  },
  {
   "cell_type": "code",
   "execution_count": 5,
   "metadata": {
    "collapsed": false
   },
   "outputs": [
    {
     "name": "stdout",
     "output_type": "stream",
     "text": [
      "(nan, 'CHIEF_INVESTIGATOR', 'EXT_CHIEF_INVESTIGATOR', 'PRINCIPAL_SUPERVISOR', 'HONVISIT', 'STUDRES', 'STUD_CHIEF_INVESTIGATOR', 'EXTERNAL_ADVISOR', 'DELEGATED_RESEARCHER')\n",
      "('Less than 0', nan, 'more than 15', '>5 to 10', '>=0 to 5', '>10 to 15')\n",
      "(nan, 'Western Europe', 'North America', 'Asia Pacific', 'Eastern Europe', 'Australia', 'Great Britain', 'The Americas', 'New Zealand', 'South Africa', 'Middle East and Africa')\n"
     ]
    }
   ],
   "source": [
    "contigency_features_names = []\n",
    "\n",
    "# Role.\n",
    "unique_roles, role_contigency_df = build_contigency(data, \"Role.\", 15, add_cardinal=True)\n",
    "\n",
    "print(unique_roles)\n",
    "contigency_features_names.extend(list(role_contigency_df.columns))\n",
    "data = data.join(role_contigency_df)\n",
    "\n",
    "# No..of.Years.in.Uni.at.Time.of.Grant.\n",
    "unique_yearsinuni, yearsinuni_contigency_df = build_contigency(data, \"No..of.Years.in.Uni.at.Time.of.Grant.\", 15)\n",
    "\n",
    "print(unique_yearsinuni)\n",
    "contigency_features_names.extend(list(yearsinuni_contigency_df.columns))\n",
    "data = data.join(yearsinuni_contigency_df)\n",
    "\n",
    "# Country.of.Birth.\n",
    "unique_cob, cob_contigency_df = build_contigency(data, \"Country.of.Birth.\", 15)\n",
    "\n",
    "print(unique_cob)\n",
    "contigency_features_names.extend(list(cob_contigency_df.columns))\n",
    "data = data.join(cob_contigency_df)"
   ]
  },
  {
   "cell_type": "markdown",
   "metadata": {},
   "source": [
    "# Aggregations for persons: Year of birth / Number of successful grants / Number of unsuccessfull grants / journals publications (A*, A, B, C)"
   ]
  },
  {
   "cell_type": "code",
   "execution_count": 6,
   "metadata": {
    "collapsed": false
   },
   "outputs": [
    {
     "name": "stdout",
     "output_type": "stream",
     "text": [
      "['mean_Year.of.Birth.', 'max_Year.of.Birth.', 'min_Year.of.Birth.', 'mean_Number.of.Successful.Grant.', 'max_Number.of.Successful.Grant.', 'min_Number.of.Successful.Grant.', 'mean_Number.of.Unsuccessful.Grant.', 'max_Number.of.Unsuccessful.Grant.', 'min_Number.of.Unsuccessful.Grant.', 'mean_A..', 'mean_A.', 'mean_B.', 'mean_C.']\n"
     ]
    }
   ],
   "source": [
    "aggregation_df1 = build_aggregation(data, [\"Year.of.Birth.\", \"Number.of.Successful.Grant.\", \"Number.of.Unsuccessful.Grant.\"], 15)\n",
    "aggregation_df2 = build_aggregation(data, [\"A..\", \"A.\", \"B.\", \"C.\"], 15, methods_to_apply=[np.mean], methods_to_apply_labels=[\"mean_\"])\n",
    "\n",
    "aggregation_features_names = list(aggregation_df1.columns) + list(aggregation_df2.columns)\n",
    "\n",
    "print(aggregation_features_names)\n",
    "data = data.join(aggregation_df1)\n",
    "data = data.join(aggregation_df2)"
   ]
  },
  {
   "cell_type": "markdown",
   "metadata": {},
   "source": [
    "# RFCD & SEO"
   ]
  },
  {
   "cell_type": "code",
   "execution_count": 7,
   "metadata": {
    "collapsed": false
   },
   "outputs": [],
   "source": [
    "## RFCD\n",
    "rfcd_codes_unique1, rfcd_df1 = build_rfcd_aggregation(data, \"RFCD.Code.\", \"RFCD.Percentage.\", 5, 1)\n",
    "rfcd_codes_unique2, rfcd_df2 = build_rfcd_aggregation(data, \"RFCD.Code.\", \"RFCD.Percentage.\", 5, 2, add_cardinal=False)\n",
    "\n",
    "rfcd_features1_names = list(rfcd_df1.columns)\n",
    "rfcd_features2_names = list(rfcd_df2.columns)\n",
    "# rfcd_features_names = rfcd_features1_names + rfcd_features2_names\n",
    "rfcd_features_names = rfcd_features2_names\n",
    "# rfcd_features_names = rfcd_features1_names\n",
    "data = data.join(rfcd_df1)\n",
    "data = data.join(rfcd_df2)\n",
    "\n",
    "### SEO\n",
    "seo_codes_unique1, seo_df1 = build_rfcd_aggregation(data, \"SEO.Code.\", \"SEO.Percentage.\", 5, 1)\n",
    "seo_codes_unique2, seo_df2 = build_rfcd_aggregation(data, \"SEO.Code.\", \"SEO.Percentage.\", 5, 2, add_cardinal=False)\n",
    "\n",
    "seo_features1_names = list(seo_df1.columns)\n",
    "seo_features2_names = list(seo_df2.columns)\n",
    "# seo_features_names = seo_features1_names + seo_features2_names\n",
    "seo_features_names = seo_features2_names\n",
    "# seo_features_names = seo_features1_names\n",
    "data = data.join(seo_df1)\n",
    "data = data.join(seo_df2)"
   ]
  },
  {
   "cell_type": "markdown",
   "metadata": {},
   "source": [
    "# Building datasets"
   ]
  },
  {
   "cell_type": "code",
   "execution_count": 10,
   "metadata": {
    "collapsed": false
   },
   "outputs": [],
   "source": [
    "# Fetching ids from files\n",
    "testing_ids = pd.read_csv(r\"C:\\Users\\Chris De Villier\\Desktop\\DSR08\\MiniCompetition\\data\\testing_ids.csv\")[\"ids\"].values\n",
    "training2_ids = pd.read_csv(r\"C:\\Users\\Chris De Villier\\Desktop\\DSR08\\MiniCompetition\\data\\training2_ids.csv\")[\"ids\"].values\n",
    "\n",
    "# Setting index\n",
    "data_ids = data[\"Grant.Application.ID\"].astype(int).values\n",
    "training_ids = np.setdiff1d(data_ids, testing_ids)\n",
    "training1_ids = np.setdiff1d(training_ids, training2_ids)"
   ]
  },
  {
   "cell_type": "markdown",
   "metadata": {},
   "source": [
    "## Filling NAs"
   ]
  },
  {
   "cell_type": "code",
   "execution_count": 11,
   "metadata": {
    "collapsed": false
   },
   "outputs": [],
   "source": [
    "# filling NAs with mean\n",
    "for feature_name in aggregation_features_names:\n",
    "    # FROM nonmean to nanmedian !!!!\n",
    "    data[feature_name] = data[feature_name].fillna(np.nanmedian(data[feature_name]))\n",
    "    data[feature_name] = data[feature_name].fillna(np.nanmedian(data.loc[training_ids-1, feature_name]))\n",
    "\n",
    "# filling NAs with other value\n",
    "data['Sponsor.Code'] = data['Sponsor.Code'].fillna('MIA')\n",
    "data['Grant.Category.Code'] = data['Grant.Category.Code'].fillna('MIA')\n",
    "data['Contract.Value.Band...see.note.A'] = data['Contract.Value.Band...see.note.A'].fillna('MIA')\n",
    "\n",
    "# Reducing number of categories\n",
    "sponsor_reduced_codes = set(data['Sponsor.Code'].value_counts().index[:12])\n",
    "data['Sponsor.Code.Reduced'] = data['Sponsor.Code'].map(lambda x: x if x in sponsor_reduced_codes else 'Other')\n",
    "\n",
    "grant_cat_reduced_codes = set(data['Grant.Category.Code'].value_counts().index[:9])\n",
    "data['Grant.Category.Code.Reduced'] = data['Grant.Category.Code'].map(lambda x: x if x in grant_cat_reduced_codes else 'Other')\n",
    "\n",
    "contract_value_reduced_codes = set(data['Contract.Value.Band...see.note.A'].value_counts().index[:9])\n",
    "data['Contract.Value.Band...see.note.A.Reduced'] = data['Contract.Value.Band...see.note.A'].map(lambda x: x if x in contract_value_reduced_codes else 'Other')"
   ]
  },
  {
   "cell_type": "markdown",
   "metadata": {},
   "source": [
    "# Dummy variables for categorical data"
   ]
  },
  {
   "cell_type": "code",
   "execution_count": 12,
   "metadata": {
    "collapsed": true
   },
   "outputs": [],
   "source": [
    "# Sponsor.Code.Reduced\n",
    "sponsor_reduced_dummies = pd.get_dummies(data[\"Sponsor.Code.Reduced\"], prefix=\"Sponsor.Code.Reduced\")\n",
    "sponsor_reduced_dummies_features = list(sponsor_reduced_dummies.columns)\n",
    "data = data.join(sponsor_reduced_dummies)\n",
    "\n",
    "# Grant.Category.Code.Reduced\n",
    "grant_cat_reduced_dummies = pd.get_dummies(data[\"Grant.Category.Code.Reduced\"], prefix=\"Grant.Category.Code.Reduced\")\n",
    "grant_cat_reduced_dummies_features = list(grant_cat_reduced_dummies.columns)\n",
    "data = data.join(grant_cat_reduced_dummies)\n",
    "\n",
    "# Contract.Value.Band...see.note.A.Reduced\n",
    "contract_value_reduced_dummies = pd.get_dummies(data[\"Contract.Value.Band...see.note.A.Reduced\"], prefix=\"Contract.Value.Band...see.note.A.Reduced\")\n",
    "contract_value_reduced_dummies_features = list(contract_value_reduced_dummies.columns)\n",
    "data = data.join(contract_value_reduced_dummies)"
   ]
  },
  {
   "cell_type": "markdown",
   "metadata": {},
   "source": [
    "## Contract.Value.Band.Values"
   ]
  },
  {
   "cell_type": "code",
   "execution_count": 13,
   "metadata": {
    "collapsed": false
   },
   "outputs": [],
   "source": [
    "contract_value_band_values = {\n",
    "    \"A\": [1, 50000],\n",
    "    \"B\" : [50001, 100000],\n",
    "    \"C\" : [100001, 200000],\n",
    "    \"D\" : [200001, 300000],\n",
    "    \"E\" : [300001, 400000],\n",
    "    \"F\" : [400001, 500000],\n",
    "    \"G\" : [500001, 1000000],\n",
    "    \"H\" : [1000001, 2000000],\n",
    "    \"I\" : [2000001, 3000000],\n",
    "    \"J\" : [3000001, 4000000],\n",
    "    \"K\" : [4000001, 5000000],\n",
    "    \"L\" : [5000001, 6000000],\n",
    "    \"M\" : [6000001, 7000000],\n",
    "    \"N\" : [7000001, 8000000],\n",
    "    \"O\" : [8000001, 9000000],\n",
    "    \"P\" : [9000001, 10000000],\n",
    "    \"Q\" : [10000001, 100000000]\n",
    "}\n",
    "\n",
    "for letter, values in contract_value_band_values.items():\n",
    "    # The mean is divided by 100000.0 for avoiding de-normalization\n",
    "    values.append(np.mean(values) / 100000.0)\n",
    "\n",
    "def assign_value(x):\n",
    "    if x is not 'MIA':\n",
    "        return contract_value_band_values[x.strip()][2]\n",
    "    return np.nan\n",
    "\n",
    "data[\"Contract.Value.Band.Values\"] = data[\"Contract.Value.Band...see.note.A\"].map(assign_value)\n",
    "data[\"Contract.Value.Band.Values\"] = data[\"Contract.Value.Band.Values\"].fillna(np.nanmedian(data[\"Contract.Value.Band.Values\"]))"
   ]
  },
  {
   "cell_type": "markdown",
   "metadata": {
    "collapsed": false
   },
   "source": [
    "## Sponsor Code letter / Grant category Code (Letter/Number)"
   ]
  },
  {
   "cell_type": "code",
   "execution_count": 14,
   "metadata": {
    "collapsed": false
   },
   "outputs": [],
   "source": [
    "data[\"Sponsor.Code.Letter\"] = data[\"Sponsor.Code\"].map(lambda x: x[-1] if x != 'MIA' else \"Unknown\")\n",
    "sponsor_code_letter_dummies = pd.get_dummies(data[\"Sponsor.Code.Letter\"], prefix=\"Sponsor.Code.Letter\")\n",
    "sponsor_code_letter_dummies_features = list(sponsor_code_letter_dummies.columns)\n",
    "data = data.join(sponsor_code_letter_dummies)\n",
    "\n",
    "data[\"Grant.Category.Code.Letter\"] = data[\"Grant.Category.Code\"].map(lambda x: x[-1] if x != 'MIA' else \"Unknown\")\n",
    "grant_cat_letter_dummies = pd.get_dummies(data[\"Grant.Category.Code.Letter\"], prefix=\"Grant.Category.Code.Letter\")\n",
    "grant_cat_letter_dummies_features = list(grant_cat_letter_dummies.columns)\n",
    "data = data.join(grant_cat_letter_dummies)\n",
    "\n",
    "data[\"Grant.Category.Code.Number\"] = data[\"Grant.Category.Code\"].map(lambda x: x[:-1] if x != 'MIA' else \"Unknown\")\n",
    "grant_cat_number_dummies = pd.get_dummies(data[\"Grant.Category.Code.Number\"], prefix=\"Grant.Category.Code.Number\")\n",
    "grant_cat_number_dummies_features = list(grant_cat_number_dummies.columns)\n",
    "data = data.join(grant_cat_number_dummies)"
   ]
  },
  {
   "cell_type": "markdown",
   "metadata": {
    "collapsed": false
   },
   "source": [
    "## Choosing the features"
   ]
  },
  {
   "cell_type": "code",
   "execution_count": 15,
   "metadata": {
    "collapsed": false,
    "scrolled": true
   },
   "outputs": [
    {
     "data": {
      "text/plain": [
       "['Year',\n",
       " 'Month',\n",
       " 'Contract.Value.Band.Values',\n",
       " 'With.PHD.Sum.',\n",
       " 'With.PHD.Ratio.',\n",
       " 'Role.CHIEF_INVESTIGATOR',\n",
       " 'Role.EXT_CHIEF_INVESTIGATOR',\n",
       " 'Role.PRINCIPAL_SUPERVISOR',\n",
       " 'Role.HONVISIT',\n",
       " 'Role.STUDRES',\n",
       " 'Role.STUD_CHIEF_INVESTIGATOR',\n",
       " 'Role.EXTERNAL_ADVISOR',\n",
       " 'Role.DELEGATED_RESEARCHER',\n",
       " 'cardinal_Role.',\n",
       " 'No..of.Years.in.Uni.at.Time.of.Grant.Less than 0',\n",
       " 'No..of.Years.in.Uni.at.Time.of.Grant.more than 15',\n",
       " 'No..of.Years.in.Uni.at.Time.of.Grant.>5 to 10',\n",
       " 'No..of.Years.in.Uni.at.Time.of.Grant.>=0 to 5',\n",
       " 'No..of.Years.in.Uni.at.Time.of.Grant.>10 to 15',\n",
       " 'Country.of.Birth.Western Europe',\n",
       " 'Country.of.Birth.North America',\n",
       " 'Country.of.Birth.Asia Pacific',\n",
       " 'Country.of.Birth.Eastern Europe',\n",
       " 'Country.of.Birth.Australia',\n",
       " 'Country.of.Birth.Great Britain',\n",
       " 'Country.of.Birth.The Americas',\n",
       " 'Country.of.Birth.New Zealand',\n",
       " 'Country.of.Birth.South Africa',\n",
       " 'Country.of.Birth.Middle East and Africa',\n",
       " 'mean_Year.of.Birth.',\n",
       " 'max_Year.of.Birth.',\n",
       " 'min_Year.of.Birth.',\n",
       " 'mean_Number.of.Successful.Grant.',\n",
       " 'max_Number.of.Successful.Grant.',\n",
       " 'min_Number.of.Successful.Grant.',\n",
       " 'mean_Number.of.Unsuccessful.Grant.',\n",
       " 'max_Number.of.Unsuccessful.Grant.',\n",
       " 'min_Number.of.Unsuccessful.Grant.',\n",
       " 'mean_A..',\n",
       " 'mean_A.',\n",
       " 'mean_B.',\n",
       " 'mean_C.',\n",
       " 'RFCD.Percentage.44x',\n",
       " 'RFCD.Percentage.24x',\n",
       " 'RFCD.Percentage.38x',\n",
       " 'RFCD.Percentage.23x',\n",
       " 'RFCD.Percentage.29x',\n",
       " 'RFCD.Percentage.37x',\n",
       " 'RFCD.Percentage.42x',\n",
       " 'RFCD.Percentage.25x',\n",
       " 'RFCD.Percentage.35x',\n",
       " 'RFCD.Percentage.34x',\n",
       " 'RFCD.Percentage.32x',\n",
       " 'RFCD.Percentage.99x',\n",
       " 'RFCD.Percentage.31x',\n",
       " 'RFCD.Percentage.28x',\n",
       " 'RFCD.Percentage.39x',\n",
       " 'RFCD.Percentage.33x',\n",
       " 'RFCD.Percentage.26x',\n",
       " 'RFCD.Percentage.21x',\n",
       " 'RFCD.Percentage.36x',\n",
       " 'RFCD.Percentage.40x',\n",
       " 'RFCD.Percentage.41x',\n",
       " 'RFCD.Percentage.30x',\n",
       " 'RFCD.Percentage.43x',\n",
       " 'RFCD.Percentage.27x',\n",
       " 'SEO.Percentage.63x',\n",
       " 'SEO.Percentage.72x',\n",
       " 'SEO.Percentage.73x',\n",
       " 'SEO.Percentage.78x',\n",
       " 'SEO.Percentage.69x',\n",
       " 'SEO.Percentage.76x',\n",
       " 'SEO.Percentage.77x',\n",
       " 'SEO.Percentage.99x',\n",
       " 'SEO.Percentage.75x',\n",
       " 'SEO.Percentage.70x',\n",
       " 'SEO.Percentage.68x',\n",
       " 'SEO.Percentage.65x',\n",
       " 'SEO.Percentage.62x',\n",
       " 'SEO.Percentage.64x',\n",
       " 'SEO.Percentage.67x',\n",
       " 'SEO.Percentage.74x',\n",
       " 'SEO.Percentage.61x',\n",
       " 'SEO.Percentage.66x',\n",
       " 'SEO.Percentage.71x',\n",
       " 'Sponsor.Code.Reduced_21A',\n",
       " 'Sponsor.Code.Reduced_24D',\n",
       " 'Sponsor.Code.Reduced_29A',\n",
       " 'Sponsor.Code.Reduced_2B',\n",
       " 'Sponsor.Code.Reduced_32D',\n",
       " 'Sponsor.Code.Reduced_34B',\n",
       " 'Sponsor.Code.Reduced_40D',\n",
       " 'Sponsor.Code.Reduced_4D',\n",
       " 'Sponsor.Code.Reduced_59C',\n",
       " 'Sponsor.Code.Reduced_5A',\n",
       " 'Sponsor.Code.Reduced_97A',\n",
       " 'Sponsor.Code.Reduced_MIA',\n",
       " 'Sponsor.Code.Reduced_Other',\n",
       " 'Grant.Category.Code.Reduced_10A',\n",
       " 'Grant.Category.Code.Reduced_10B',\n",
       " 'Grant.Category.Code.Reduced_20A',\n",
       " 'Grant.Category.Code.Reduced_20C',\n",
       " 'Grant.Category.Code.Reduced_30B',\n",
       " 'Grant.Category.Code.Reduced_30C',\n",
       " 'Grant.Category.Code.Reduced_30D',\n",
       " 'Grant.Category.Code.Reduced_50A',\n",
       " 'Grant.Category.Code.Reduced_MIA',\n",
       " 'Grant.Category.Code.Reduced_Other',\n",
       " 'Contract.Value.Band...see.note.A.Reduced_A ',\n",
       " 'Contract.Value.Band...see.note.A.Reduced_B ',\n",
       " 'Contract.Value.Band...see.note.A.Reduced_C ',\n",
       " 'Contract.Value.Band...see.note.A.Reduced_D ',\n",
       " 'Contract.Value.Band...see.note.A.Reduced_E ',\n",
       " 'Contract.Value.Band...see.note.A.Reduced_F ',\n",
       " 'Contract.Value.Band...see.note.A.Reduced_G ',\n",
       " 'Contract.Value.Band...see.note.A.Reduced_H ',\n",
       " 'Contract.Value.Band...see.note.A.Reduced_MIA',\n",
       " 'Contract.Value.Band...see.note.A.Reduced_Other']"
      ]
     },
     "execution_count": 15,
     "metadata": {},
     "output_type": "execute_result"
    }
   ],
   "source": [
    "all_application_feature_names = [\n",
    "    \"Grant.Application.ID\", \n",
    "    \"Grant.Status\", \n",
    "    \"Sponsor.Code\", \n",
    "    \"Grant.Category.Code\", \n",
    "    \"Contract.Value.Band...see.note.A\", \n",
    "    \"Start.date\",\n",
    "    \"Year\",\n",
    "    \"Month\",\n",
    "    \"Contract.Value.Band.Values\",\n",
    "    \"With.PHD.Sum.\",\n",
    "    \"With.PHD.Ratio.\"\n",
    "]\n",
    "\n",
    "application_feature_names = [\n",
    "    \"Year\",\n",
    "    \"Month\",\n",
    "    \"Contract.Value.Band.Values\",\n",
    "    \"With.PHD.Sum.\",\n",
    "    \"With.PHD.Ratio.\"\n",
    "]\n",
    "\n",
    "features_without_nan = list(np.concatenate([\n",
    "            application_feature_names \n",
    "            + contigency_features_names \n",
    "            + aggregation_features_names \n",
    "            + rfcd_features_names \n",
    "            + seo_features_names\n",
    "            + sponsor_reduced_dummies_features\n",
    "            + grant_cat_reduced_dummies_features\n",
    "            + contract_value_reduced_dummies_features\n",
    "#             + grant_cat_letter_dummies_features\n",
    "#             + grant_cat_number_dummies_features\n",
    "#             + sponsor_code_letter_dummies_features\n",
    "        ]))\n",
    "\n",
    "\n",
    "data[features_without_nan].isnull().sum()\n",
    "features_without_nan"
   ]
  },
  {
   "cell_type": "markdown",
   "metadata": {},
   "source": [
    "## Splitting into train and test"
   ]
  },
  {
   "cell_type": "code",
   "execution_count": 16,
   "metadata": {
    "collapsed": true
   },
   "outputs": [],
   "source": [
    "train_df = data.loc[training_ids-1]\n",
    "train1_df = data.loc[training1_ids-1]\n",
    "train2_df = data.loc[training2_ids-1]\n",
    "test_df = data.loc[testing_ids-1]\n",
    "\n",
    "# Exporting files\n",
    "# train_df.to_csv(\"data/train.csv\")\n",
    "# train1_df.to_csv(\"data/train1.csv\")\n",
    "# train2_df.to_csv(\"data/train2.csv\")\n",
    "# test_df.to_csv(\"data/test.csv\")"
   ]
  },
  {
   "cell_type": "markdown",
   "metadata": {
    "collapsed": false
   },
   "source": [
    "## X_train, X_test, y_train, y_test"
   ]
  },
  {
   "cell_type": "code",
   "execution_count": 17,
   "metadata": {
    "collapsed": false
   },
   "outputs": [],
   "source": [
    "X_train, X_test = train_df[features_without_nan], test_df[features_without_nan]\n",
    "y_train, y_test = train_df[\"Grant.Status\"].astype(int), test_df[\"Grant.Status\"].astype(int)"
   ]
  },
  {
   "cell_type": "markdown",
   "metadata": {},
   "source": [
    "## Logistic Regression"
   ]
  },
  {
   "cell_type": "code",
   "execution_count": 18,
   "metadata": {
    "collapsed": false,
    "scrolled": true
   },
   "outputs": [
    {
     "name": "stdout",
     "output_type": "stream",
     "text": [
      "Accuracy: 0.853282 | AUC: 0.910005\n"
     ]
    },
    {
     "data": {
      "text/plain": [
       "(0.89856552728128869, 0.91000466380405587)"
      ]
     },
     "execution_count": 18,
     "metadata": {},
     "output_type": "execute_result"
    }
   ],
   "source": [
    "from sklearn.linear_model import LogisticRegression\n",
    "from sklearn.metrics import accuracy_score, roc_auc_score\n",
    "\n",
    "########### Features\n",
    "features_logistic = list(np.concatenate([\n",
    "            application_feature_names \n",
    "            + contigency_features_names \n",
    "            + aggregation_features_names \n",
    "            + rfcd_features1_names \n",
    "            + seo_features1_names\n",
    "            + sponsor_reduced_dummies_features\n",
    "            + grant_cat_reduced_dummies_features\n",
    "            + contract_value_reduced_dummies_features\n",
    "            + grant_cat_letter_dummies_features\n",
    "            + grant_cat_number_dummies_features\n",
    "            + sponsor_code_letter_dummies_features\n",
    "        ]))\n",
    "features_logistic.remove(\"Contract.Value.Band.Values\")\n",
    "\n",
    "# Datasets\n",
    "X_train_log, X_test_log = train_df[features_logistic], test_df[features_logistic]\n",
    "\n",
    "# Predictions\n",
    "classifier_log = LogisticRegression(C=0.5).fit(X_train_log, y_train)\n",
    "prediction_log = classifier_log.predict(X_test_log)\n",
    "prediction_proba_log = classifier_log.predict_proba(X_test_log)\n",
    "\n",
    "roc_score_log = roc_auc_score(np.array(y_test.values), prediction_proba_log[:, 1])\n",
    "roc_score_log_train = roc_auc_score(np.array(y_train.values), classifier_log.predict_proba(X_train_log)[:, 1])\n",
    "\n",
    "print(\"Accuracy: %f | AUC: %f\" % (accuracy_score(y_test, prediction_log), roc_score_log))\n",
    "# print(\"\\nFeatures coefficients:\")\n",
    "# features_coef = list(zip(features_without_nan, classifier_log.coef_[0,:]))\n",
    "# features_coef.sort(key=lambda x:x[1], reverse=True)\n",
    "# for name, coef in features_coef:\n",
    "#     print(\"%50s: %f\" %(name, coef))\n",
    "# features_logistic\n",
    "\n",
    "roc_score_log_train, roc_score_log"
   ]
  },
  {
   "cell_type": "code",
   "execution_count": 19,
   "metadata": {
    "collapsed": false
   },
   "outputs": [
    {
     "data": {
      "text/plain": [
       "array([[ 0.21040275,  0.78959725],\n",
       "       [ 0.98520568,  0.01479432],\n",
       "       [ 0.15803409,  0.84196591],\n",
       "       ..., \n",
       "       [ 0.26819018,  0.73180982],\n",
       "       [ 0.98506553,  0.01493447],\n",
       "       [ 0.30203309,  0.69796691]])"
      ]
     },
     "execution_count": 19,
     "metadata": {},
     "output_type": "execute_result"
    }
   ],
   "source": [
    "prediction_proba_log"
   ]
  },
  {
   "cell_type": "code",
   "execution_count": 23,
   "metadata": {
    "collapsed": false
   },
   "outputs": [
    {
     "data": {
      "text/plain": [
       "array([  7.89597250e-01,   1.47943208e-02,   8.41965908e-01,\n",
       "         7.11058562e-01,   6.60887861e-01,   8.68761068e-01,\n",
       "         6.06568874e-01,   7.53145322e-01,   4.20699261e-02,\n",
       "         4.82977272e-01,   7.11084961e-02,   6.95499175e-01,\n",
       "         9.03315767e-01,   8.11934433e-01,   8.93144331e-01,\n",
       "         7.08750876e-01,   5.87828360e-02,   3.07549524e-01,\n",
       "         5.13705302e-01,   1.77152165e-01,   6.44412802e-02,\n",
       "         6.00895352e-01,   2.15012797e-01,   8.02913419e-01,\n",
       "         4.90650039e-01,   6.03439475e-01,   5.83502142e-01,\n",
       "         9.12410936e-02,   9.31905408e-01,   5.53592391e-01,\n",
       "         3.48183275e-01,   1.34592761e-01,   6.38134601e-02,\n",
       "         3.99630923e-01,   2.98176836e-03,   4.52002738e-02,\n",
       "         9.35274932e-01,   2.11918937e-01,   4.88972765e-01,\n",
       "         2.32391507e-01,   8.64747848e-01,   4.65595702e-01,\n",
       "         9.50265410e-01,   1.68214864e-02,   8.35922969e-01,\n",
       "         8.33991601e-01,   8.18502439e-01,   5.02286878e-01,\n",
       "         8.21041813e-01,   7.90458707e-01,   8.48631121e-01,\n",
       "         5.17376256e-01,   5.43585836e-01,   8.57730136e-01,\n",
       "         7.43238221e-02,   3.38556510e-02,   7.03280927e-01,\n",
       "         4.81977902e-01,   8.00335513e-01,   6.79998167e-01,\n",
       "         6.31553574e-02,   9.59216955e-01,   1.91897164e-01,\n",
       "         5.49415337e-01,   7.30395845e-02,   6.94428119e-01,\n",
       "         2.87498150e-02,   5.99372805e-01,   8.39181181e-01,\n",
       "         8.96768143e-01,   3.12746105e-01,   4.25967010e-01,\n",
       "         6.81108285e-01,   9.44327004e-01,   5.18173868e-01,\n",
       "         4.13369050e-01,   3.64189224e-02,   6.41539696e-01,\n",
       "         7.09367295e-02,   5.75318962e-01,   5.16555250e-01,\n",
       "         7.02440902e-02,   6.03041374e-01,   1.91280053e-01,\n",
       "         4.19918860e-01,   9.99513033e-01,   4.63689608e-01,\n",
       "         1.65334561e-02,   1.03404982e-02,   5.77750569e-01,\n",
       "         7.80144503e-01,   2.87466374e-02,   8.46382190e-01,\n",
       "         8.32603366e-02,   2.60569196e-02,   9.54285051e-02,\n",
       "         2.34711202e-01,   3.60358451e-01,   9.72539489e-01,\n",
       "         6.16142411e-02,   1.20523366e-01,   8.36003611e-01,\n",
       "         1.11683948e-01,   2.65231233e-02,   8.91643032e-02,\n",
       "         4.61046375e-02,   7.60479174e-02,   4.28594359e-01,\n",
       "         3.22574199e-03,   4.65897482e-02,   8.88495672e-01,\n",
       "         1.83613301e-02,   9.64937032e-01,   6.95347531e-01,\n",
       "         6.24858988e-03,   9.40537104e-01,   3.70390447e-01,\n",
       "         2.15130571e-01,   7.68458875e-01,   4.25923955e-02,\n",
       "         1.55906342e-01,   9.50178166e-01,   9.77204944e-01,\n",
       "         4.74316259e-02,   7.03326627e-01,   7.12847836e-01,\n",
       "         7.74228116e-02,   7.72755403e-02,   9.37945371e-01,\n",
       "         7.46239812e-01,   5.10421162e-01,   7.24555537e-01,\n",
       "         2.52203503e-01,   9.18225745e-01,   6.83499426e-01,\n",
       "         4.67304216e-01,   9.83409673e-05,   9.96441524e-01,\n",
       "         4.48801217e-01,   7.48715839e-01,   7.74701445e-01,\n",
       "         5.57487883e-01,   4.53613395e-01,   4.81596970e-01,\n",
       "         4.91584779e-01,   1.19915041e-01,   6.89337651e-01,\n",
       "         3.78872385e-03,   1.23119589e-02,   4.94914766e-01,\n",
       "         8.97407166e-01,   6.96318631e-01,   9.64704541e-03,\n",
       "         6.66535029e-01,   2.80612857e-01,   1.42536753e-01,\n",
       "         3.38606802e-01,   7.12974987e-01,   9.57883447e-01,\n",
       "         3.99633383e-01,   1.91730391e-01,   8.38442408e-01,\n",
       "         1.21593358e-01,   4.62151144e-01,   9.99518258e-01,\n",
       "         1.07598293e-02,   8.01882834e-01,   3.93449160e-01,\n",
       "         8.95863770e-01,   1.21768935e-01,   3.81811049e-01,\n",
       "         6.79642029e-01,   6.77948856e-01,   2.68981056e-01,\n",
       "         3.40526312e-01,   7.93815439e-01,   6.26700761e-01,\n",
       "         3.36781246e-01,   6.83525323e-01,   6.54386743e-01,\n",
       "         6.36523419e-01,   1.91892627e-01,   6.90468590e-01,\n",
       "         6.97079068e-01,   6.15683359e-01,   5.84134552e-01,\n",
       "         7.69859137e-02,   6.12373644e-01,   4.11373869e-01,\n",
       "         5.49835514e-01,   4.06465001e-01,   6.15796455e-01,\n",
       "         3.00544198e-01,   7.10190068e-01,   9.93091727e-01,\n",
       "         7.13716515e-01,   2.61656976e-01,   5.15904156e-01,\n",
       "         3.79234703e-01,   5.80449168e-01,   3.78951210e-01,\n",
       "         6.49742483e-01,   1.06655066e-01,   9.90433432e-01,\n",
       "         3.77414610e-01,   9.43011083e-02,   9.38444877e-01,\n",
       "         9.65332268e-01,   6.23348092e-02,   9.37331803e-01,\n",
       "         6.42478569e-02,   9.11036395e-01,   6.59262510e-01,\n",
       "         6.96299975e-01,   2.95355264e-02,   2.81854499e-01,\n",
       "         1.98372388e-01,   3.46410207e-01,   1.20925707e-01,\n",
       "         9.09341616e-01,   5.18570041e-02,   2.41580513e-02,\n",
       "         3.72781078e-02,   7.40460907e-02,   1.90982076e-02,\n",
       "         3.21782258e-02,   1.17905267e-01,   1.70722728e-02,\n",
       "         1.63732183e-01,   1.84508188e-01,   7.19313379e-02,\n",
       "         3.87912745e-02,   1.20996671e-02,   1.74053044e-02,\n",
       "         8.66312128e-02,   1.67769209e-02,   1.82575971e-02,\n",
       "         4.84164572e-02,   6.08366321e-02,   3.15449706e-02,\n",
       "         1.23127458e-01,   2.37012921e-02,   7.28566785e-03,\n",
       "         8.46608099e-02,   5.98259521e-02,   1.28358729e-01,\n",
       "         8.70862602e-02,   2.80519099e-02,   1.56010824e-02,\n",
       "         1.10418844e-01,   1.34631993e-02,   1.33533093e-02,\n",
       "         6.88960886e-02,   1.48230463e-02,   4.72310103e-02,\n",
       "         3.70324615e-02,   2.64586473e-02,   3.80279768e-02,\n",
       "         4.18852082e-02,   4.20828314e-02,   8.73718981e-02,\n",
       "         4.98976157e-02,   3.62147795e-02,   1.77053154e-01,\n",
       "         4.80091253e-02,   7.94829837e-02,   9.25055696e-02,\n",
       "         4.65124679e-02,   3.52077613e-02,   1.38219174e-02,\n",
       "         3.79805316e-02,   5.78835554e-02,   8.49119242e-02,\n",
       "         6.90640062e-02,   1.14513944e-01,   2.66863956e-02,\n",
       "         1.09114578e-01,   1.87331121e-02,   2.89647488e-02,\n",
       "         4.63300994e-02,   1.61793297e-01,   1.69189001e-01,\n",
       "         3.40559391e-01,   6.36139270e-02,   2.02769795e-01,\n",
       "         3.09282537e-01,   1.86968284e-01,   1.54324716e-01,\n",
       "         2.35679510e-01,   5.50132461e-02,   3.96514004e-03,\n",
       "         5.70776722e-01,   4.86860199e-01,   2.88084348e-01,\n",
       "         6.00590505e-01,   9.95845452e-01,   8.91319337e-01,\n",
       "         4.47976075e-01,   1.77013958e-01,   5.38039016e-01,\n",
       "         6.77627701e-02,   3.34048288e-01,   7.60132174e-01,\n",
       "         4.96880132e-02,   8.77718523e-01,   2.03887908e-01,\n",
       "         3.76152463e-01,   3.94315388e-01,   5.65142821e-02,\n",
       "         2.28654219e-01,   1.19295596e-01,   5.27410200e-01,\n",
       "         2.76015627e-01,   2.15819466e-01,   1.23107360e-01,\n",
       "         1.70691115e-01,   1.39581353e-01,   7.64118697e-02,\n",
       "         3.65826941e-01,   1.11297121e-01,   1.49231614e-01,\n",
       "         4.87617818e-03,   1.47623293e-01,   1.48280603e-01,\n",
       "         2.16798878e-02,   7.36458881e-01,   1.33460940e-01,\n",
       "         2.82676618e-02,   9.59832889e-01,   5.65901895e-01,\n",
       "         9.32529635e-01,   3.41674643e-01,   4.51297932e-01,\n",
       "         5.60004379e-01,   6.65388713e-01,   9.34951928e-01,\n",
       "         3.22639042e-02,   9.93903098e-01,   3.59623772e-02,\n",
       "         4.85922355e-02,   7.55677928e-01,   6.67786352e-01,\n",
       "         8.15293371e-01,   4.06963603e-01,   9.03034546e-02,\n",
       "         1.80862226e-01,   1.31570491e-01,   8.94027608e-01,\n",
       "         8.45446628e-01,   1.20495992e-01,   9.27069035e-01,\n",
       "         1.09084331e-02,   6.34485747e-02,   2.11936737e-01,\n",
       "         1.57233291e-02,   9.16383241e-01,   4.48512992e-02,\n",
       "         9.59134954e-03,   3.98282482e-02,   8.28882367e-01,\n",
       "         5.35802687e-01,   4.42817271e-02,   8.84660495e-02,\n",
       "         9.73724029e-01,   4.86405803e-02,   9.13303150e-02,\n",
       "         1.83768588e-01,   1.05175457e-01,   2.87143418e-02,\n",
       "         1.34679583e-01,   9.40763527e-01,   5.63150460e-01,\n",
       "         9.87255245e-02,   2.27694530e-01,   1.24852698e-02,\n",
       "         9.93971917e-03,   1.02624171e-01,   9.98450789e-01,\n",
       "         7.72041568e-02,   1.80035979e-02,   2.26488041e-01,\n",
       "         1.43403127e-01,   9.49432789e-02,   2.91494040e-02,\n",
       "         8.63805632e-02,   4.89032005e-03,   1.33487420e-02,\n",
       "         1.00301233e-02,   6.62335498e-01,   8.11474562e-02,\n",
       "         7.17229167e-02,   1.87058308e-01,   3.64988118e-03,\n",
       "         7.87364087e-02,   7.18125829e-01,   3.77885079e-02,\n",
       "         1.57272162e-02,   3.53838689e-04,   5.99400864e-01,\n",
       "         6.62545658e-03,   1.62401988e-02,   9.64543903e-01,\n",
       "         1.51015334e-02,   1.55452900e-02,   2.68625597e-02,\n",
       "         2.85408913e-02,   4.41713141e-02,   8.32438211e-01,\n",
       "         4.07155139e-02,   3.87248214e-03,   4.32552242e-02,\n",
       "         2.91216969e-02,   4.70542815e-02,   5.96783586e-02,\n",
       "         8.13612966e-01,   5.56387120e-02,   4.14652975e-02,\n",
       "         8.23037741e-02,   8.64986898e-01,   5.41457645e-03,\n",
       "         1.50818663e-01,   6.55882485e-02,   9.89100773e-01,\n",
       "         3.25776693e-02,   6.45143321e-02,   5.36348246e-04,\n",
       "         1.72033312e-03,   2.07539824e-02,   4.83502960e-01,\n",
       "         2.57157898e-02,   9.26220312e-01,   7.17561876e-02,\n",
       "         1.24156110e-01,   3.44206051e-02,   1.10814786e-02,\n",
       "         8.75414274e-01,   7.36523002e-02,   1.14748566e-01,\n",
       "         1.11755432e-02,   1.62867423e-03,   3.59092615e-02,\n",
       "         2.35652222e-03,   5.00775650e-03,   5.56195812e-01,\n",
       "         3.39233221e-01,   7.61815796e-01,   5.30513335e-01,\n",
       "         5.89565047e-01,   9.99823927e-01,   9.36647602e-01,\n",
       "         2.47724835e-01,   1.08288325e-01,   1.22328292e-02,\n",
       "         8.37633868e-01,   5.30321063e-02,   5.22698806e-02,\n",
       "         4.11525144e-02,   6.90091911e-01,   5.62415200e-02,\n",
       "         8.90849349e-01,   2.60077795e-01,   7.29785972e-01,\n",
       "         6.99098073e-01,   5.72675057e-01,   9.38552350e-01,\n",
       "         5.88924276e-01,   5.67255502e-02,   1.09519971e-01,\n",
       "         1.15729753e-01,   6.45700805e-01,   6.09082646e-02,\n",
       "         9.94899969e-01,   4.72883326e-02,   5.01784424e-02,\n",
       "         4.86184090e-02,   5.21973168e-02,   9.65504004e-01,\n",
       "         3.46368819e-02,   4.72883326e-02,   4.88078769e-02,\n",
       "         5.48001540e-02,   2.43478811e-02,   4.72883326e-02,\n",
       "         4.88078769e-02,   5.28408328e-01,   3.88606676e-01,\n",
       "         7.95577164e-01,   3.17496011e-02,   3.64701554e-02,\n",
       "         1.59607520e-02,   7.91863289e-02,   4.87122457e-02,\n",
       "         3.75079290e-02,   5.28958354e-01,   7.76441006e-02,\n",
       "         8.01911450e-01,   2.29288562e-01,   7.21168758e-03,\n",
       "         1.09835035e-02,   1.33275248e-03,   2.46792841e-01,\n",
       "         9.66587763e-01,   2.13365105e-03,   3.24656087e-01,\n",
       "         9.65493776e-01,   2.66856824e-01,   2.00828079e-01,\n",
       "         2.28780528e-01,   6.87214251e-01,   1.24315596e-01,\n",
       "         8.53480824e-02,   4.32970348e-02,   2.02988739e-03,\n",
       "         1.84537320e-03,   9.91173171e-01,   7.31809822e-01,\n",
       "         1.49344691e-02,   6.97966906e-01])"
      ]
     },
     "execution_count": 23,
     "metadata": {},
     "output_type": "execute_result"
    }
   ],
   "source": [
    "prediction_proba_log[:,1]"
   ]
  },
  {
   "cell_type": "code",
   "execution_count": 20,
   "metadata": {
    "collapsed": false
   },
   "outputs": [
    {
     "data": {
      "text/plain": [
       "array([0, 0, 1, 1, 1, 1, 1, 1, 1, 1, 1, 1, 1, 1, 1, 1, 0, 0, 1, 1, 0, 1, 0,\n",
       "       1, 1, 1, 1, 0, 1, 0, 1, 0, 0, 0, 0, 0, 1, 0, 0, 0, 1, 1, 0, 0, 1, 1,\n",
       "       1, 1, 1, 1, 1, 1, 1, 1, 0, 0, 1, 0, 1, 1, 0, 1, 1, 1, 0, 1, 0, 0, 1,\n",
       "       0, 1, 0, 0, 1, 1, 1, 0, 1, 0, 1, 0, 0, 0, 0, 0, 0, 0, 0, 0, 1, 0, 0,\n",
       "       1, 0, 0, 0, 0, 0, 1, 0, 0, 1, 0, 0, 0, 0, 0, 1, 0, 0, 1, 0, 1, 0, 0,\n",
       "       1, 1, 0, 1, 0, 0, 1, 1, 0, 1, 1, 0, 0, 1, 1, 0, 1, 1, 1, 1, 0, 0, 1,\n",
       "       1, 1, 1, 0, 1, 0, 0, 1, 1, 0, 0, 1, 1, 0, 1, 1, 0, 0, 0, 0, 1, 0, 1,\n",
       "       1, 0, 1, 1, 0, 1, 0, 0, 1, 0, 1, 1, 0, 0, 1, 1, 0, 1, 1, 0, 0, 1, 1,\n",
       "       1, 0, 0, 1, 0, 0, 1, 1, 1, 1, 0, 1, 0, 1, 0, 1, 0, 0, 1, 0, 0, 0, 1,\n",
       "       1, 0, 0, 0, 1, 1, 1, 0, 0, 0, 0, 0, 1, 0, 0, 0, 0, 0, 0, 0, 0, 0, 0,\n",
       "       0, 0, 0, 0, 0, 0, 0, 0, 0, 0, 0, 0, 0, 0, 0, 0, 0, 0, 0, 0, 0, 0, 0,\n",
       "       0, 0, 0, 0, 0, 0, 0, 0, 0, 0, 0, 0, 0, 0, 0, 0, 0, 0, 0, 0, 0, 0, 0,\n",
       "       0, 0, 0, 0, 0, 0, 1, 0, 0, 1, 0, 0, 0, 1, 0, 1, 0, 0, 1, 1, 1, 0, 0,\n",
       "       0, 0, 1, 1, 0, 1, 0, 1, 0, 0, 1, 0, 0, 0, 0, 0, 0, 0, 0, 0, 0, 0, 0,\n",
       "       0, 0, 0, 1, 0, 0, 1, 0, 0, 0, 0, 0, 1, 1, 0, 0, 0, 0, 1, 0, 1, 1, 0,\n",
       "       0, 0, 1, 1, 0, 1, 0, 0, 0, 0, 1, 0, 0, 0, 1, 1, 0, 0, 1, 0, 0, 0, 0,\n",
       "       0, 1, 1, 1, 0, 0, 0, 0, 0, 1, 0, 0, 0, 0, 1, 0, 1, 0, 0, 0, 1, 0, 0,\n",
       "       1, 0, 0, 1, 0, 0, 0, 1, 0, 0, 1, 0, 0, 0, 0, 0, 1, 0, 0, 0, 0, 0, 0,\n",
       "       1, 0, 0, 0, 1, 0, 0, 0, 1, 0, 0, 0, 0, 1, 1, 0, 1, 0, 0, 0, 0, 1, 0,\n",
       "       0, 0, 0, 0, 0, 0, 0, 1, 1, 1, 1, 1, 1, 1, 0, 0, 1, 0, 0, 0, 1, 0, 1,\n",
       "       1, 1, 1, 1, 1, 0, 0, 0, 0, 1, 0, 1, 0, 0, 0, 0, 1, 1, 0, 0, 0, 0, 0,\n",
       "       0, 1, 1, 1, 0, 0, 0, 0, 0, 0, 1, 0, 1, 0, 0, 0, 0, 1, 1, 0, 1, 1, 0,\n",
       "       0, 0, 1, 0, 0, 0, 0, 0, 1, 1, 0, 1])"
      ]
     },
     "execution_count": 20,
     "metadata": {},
     "output_type": "execute_result"
    }
   ],
   "source": [
    "y_test.values"
   ]
  },
  {
   "cell_type": "code",
   "execution_count": null,
   "metadata": {
    "collapsed": true
   },
   "outputs": [],
   "source": []
  },
  {
   "cell_type": "markdown",
   "metadata": {
    "collapsed": false
   },
   "source": [
    "## Random Forest"
   ]
  },
  {
   "cell_type": "code",
   "execution_count": 24,
   "metadata": {
    "collapsed": false,
    "scrolled": true
   },
   "outputs": [
    {
     "name": "stdout",
     "output_type": "stream",
     "text": [
      "Accuracy: 0.899614 | AUC: 0.963510\n",
      "\n",
      "Features importances:\n",
      "                mean_Number.of.Unsuccessful.Grant.: 0.089891\n",
      "      Contract.Value.Band...see.note.A.Reduced_MIA: 0.086168\n",
      "                 max_Number.of.Unsuccessful.Grant.: 0.080543\n",
      "                        Contract.Value.Band.Values: 0.047428\n",
      "                                             Month: 0.042332\n",
      "                 min_Number.of.Unsuccessful.Grant.: 0.041463\n",
      "                  mean_Number.of.Successful.Grant.: 0.040009\n",
      "                   max_Number.of.Successful.Grant.: 0.036344\n",
      "                   min_Number.of.Successful.Grant.: 0.027335\n",
      "                                              Year: 0.025724\n",
      "                          Sponsor.Code.Reduced_MIA: 0.023445\n",
      "                   Grant.Category.Code.Reduced_MIA: 0.022100\n",
      "                                           mean_A.: 0.020554\n",
      "                                           mean_B.: 0.020092\n",
      "                                          mean_A..: 0.018702\n",
      "       Contract.Value.Band...see.note.A.Reduced_A : 0.017903\n",
      "                                           mean_C.: 0.015333\n",
      "                               mean_Year.of.Birth.: 0.014988\n",
      "                   Grant.Category.Code.Reduced_10A: 0.013570\n",
      "                                    cardinal_Role.: 0.013355\n",
      "                                min_Year.of.Birth.: 0.013107\n",
      "                                max_Year.of.Birth.: 0.012691\n",
      "                           Role.CHIEF_INVESTIGATOR: 0.012066\n",
      "                        Sponsor.Code.Reduced_Other: 0.011188\n",
      "                   Grant.Category.Code.Reduced_30B: 0.010915\n",
      "                                   With.PHD.Ratio.: 0.010175\n",
      "                                SEO.Percentage.73x: 0.009678\n",
      "                               RFCD.Percentage.32x: 0.009648\n",
      "                       Role.EXT_CHIEF_INVESTIGATOR: 0.009047\n",
      "                      Role.STUD_CHIEF_INVESTIGATOR: 0.007867\n",
      "                               RFCD.Percentage.27x: 0.007333\n",
      "                                     With.PHD.Sum.: 0.007196\n",
      "     No..of.Years.in.Uni.at.Time.of.Grant.>=0 to 5: 0.006797\n",
      "                           Sponsor.Code.Reduced_4D: 0.006764\n",
      "                        Country.of.Birth.Australia: 0.006755\n",
      "                   Grant.Category.Code.Reduced_50A: 0.006448\n",
      "                          Sponsor.Code.Reduced_21A: 0.006360\n",
      "     No..of.Years.in.Uni.at.Time.of.Grant.>5 to 10: 0.005975\n",
      "                           Sponsor.Code.Reduced_2B: 0.005389\n",
      "       Contract.Value.Band...see.note.A.Reduced_D : 0.005116\n",
      "       Contract.Value.Band...see.note.A.Reduced_B : 0.004908\n",
      "  No..of.Years.in.Uni.at.Time.of.Grant.Less than 0: 0.004865\n",
      "                                SEO.Percentage.78x: 0.004774\n",
      "       Contract.Value.Band...see.note.A.Reduced_G : 0.004729\n",
      "    No..of.Years.in.Uni.at.Time.of.Grant.>10 to 15: 0.004722\n",
      "       Contract.Value.Band...see.note.A.Reduced_E : 0.004520\n",
      " No..of.Years.in.Uni.at.Time.of.Grant.more than 15: 0.004473\n",
      "       Contract.Value.Band...see.note.A.Reduced_F : 0.004353\n",
      "                         Role.PRINCIPAL_SUPERVISOR: 0.003850\n",
      "                          Sponsor.Code.Reduced_24D: 0.003819\n",
      "                    Country.of.Birth.Great Britain: 0.003534\n",
      "                   Grant.Category.Code.Reduced_10B: 0.003342\n",
      "                               RFCD.Percentage.30x: 0.003319\n",
      "                   Grant.Category.Code.Reduced_20C: 0.003193\n",
      "                                SEO.Percentage.77x: 0.003084\n",
      "                         Role.DELEGATED_RESEARCHER: 0.002831\n",
      "                                SEO.Percentage.67x: 0.002789\n",
      "       Contract.Value.Band...see.note.A.Reduced_C : 0.002699\n",
      "                                SEO.Percentage.75x: 0.002643\n",
      "                   Grant.Category.Code.Reduced_30C: 0.002376\n",
      "                                      Role.STUDRES: 0.002121\n",
      "                   Country.of.Birth.Western Europe: 0.002060\n",
      "                          Sponsor.Code.Reduced_34B: 0.001977\n",
      "                     Country.of.Birth.Asia Pacific: 0.001964\n",
      "                               RFCD.Percentage.29x: 0.001927\n",
      "                    Country.of.Birth.North America: 0.001873\n",
      "                               RFCD.Percentage.28x: 0.001778\n",
      "                          Sponsor.Code.Reduced_59C: 0.001753\n",
      "                          Sponsor.Code.Reduced_40D: 0.001750\n",
      "    Contract.Value.Band...see.note.A.Reduced_Other: 0.001597\n",
      "                   Country.of.Birth.Eastern Europe: 0.001576\n",
      "                                SEO.Percentage.62x: 0.001540\n",
      "                               RFCD.Percentage.25x: 0.001533\n",
      "                   Grant.Category.Code.Reduced_20A: 0.001499\n",
      "                               RFCD.Percentage.38x: 0.001491\n",
      "                                SEO.Percentage.70x: 0.001452\n",
      "                               RFCD.Percentage.26x: 0.001426\n",
      "                                SEO.Percentage.63x: 0.001420\n",
      "                   Grant.Category.Code.Reduced_30D: 0.001321\n",
      "                               RFCD.Percentage.33x: 0.001232\n",
      "                                SEO.Percentage.74x: 0.001221\n",
      "                               RFCD.Percentage.37x: 0.001194\n",
      "                               RFCD.Percentage.24x: 0.001147\n",
      "                               RFCD.Percentage.23x: 0.001058\n",
      "                          Sponsor.Code.Reduced_29A: 0.001056\n",
      "                                SEO.Percentage.76x: 0.001022\n",
      "                          Sponsor.Code.Reduced_32D: 0.001007\n",
      "                      Country.of.Birth.New Zealand: 0.000956\n",
      "                          Sponsor.Code.Reduced_97A: 0.000947\n",
      "                               RFCD.Percentage.41x: 0.000932\n",
      "                 Grant.Category.Code.Reduced_Other: 0.000829\n",
      "                           Sponsor.Code.Reduced_5A: 0.000810\n",
      "                                SEO.Percentage.68x: 0.000780\n",
      "                               RFCD.Percentage.31x: 0.000769\n",
      "                               RFCD.Percentage.21x: 0.000757\n",
      "                               RFCD.Percentage.42x: 0.000744\n",
      "       Contract.Value.Band...see.note.A.Reduced_H : 0.000700\n",
      "           Country.of.Birth.Middle East and Africa: 0.000696\n",
      "                               RFCD.Percentage.43x: 0.000665\n",
      "                                SEO.Percentage.72x: 0.000659\n",
      "                     Country.of.Birth.The Americas: 0.000657\n",
      "                               RFCD.Percentage.34x: 0.000554\n",
      "                     Country.of.Birth.South Africa: 0.000538\n",
      "                               RFCD.Percentage.39x: 0.000492\n",
      "                                SEO.Percentage.65x: 0.000484\n",
      "                               RFCD.Percentage.36x: 0.000469\n",
      "                                SEO.Percentage.66x: 0.000425\n",
      "                                SEO.Percentage.61x: 0.000419\n",
      "                               RFCD.Percentage.40x: 0.000416\n",
      "                               RFCD.Percentage.35x: 0.000393\n",
      "                                SEO.Percentage.71x: 0.000256\n",
      "                               RFCD.Percentage.44x: 0.000239\n",
      "                                SEO.Percentage.64x: 0.000199\n",
      "                                SEO.Percentage.99x: 0.000193\n",
      "                               RFCD.Percentage.99x: 0.000184\n",
      "                                SEO.Percentage.69x: 0.000136\n",
      "                                     Role.HONVISIT: 0.000081\n",
      "                             Role.EXTERNAL_ADVISOR: 0.000012\n"
     ]
    }
   ],
   "source": [
    "from sklearn.ensemble import RandomForestClassifier\n",
    "\n",
    "parameters_rf = {'max_features': 14, 'n_estimators': 1700}\n",
    "parameters_rf = {'max_features': 13, 'n_estimators': 1500}\n",
    "parameters_rf = {'n_estimators': 1600}\n",
    "# parameters_rf = {'n_estimators': 10000}\n",
    "# parameters_rf = {'n_estimators': 1800}\n",
    "rf = RandomForestClassifier(**parameters_rf, n_jobs = 7)\n",
    "classifierRF = rf.fit(X_train, y_train)\n",
    "predictionRF = classifierRF.predict(X_test)\n",
    "prediction_probaRF = classifierRF.predict_proba(X_test)\n",
    "prediction_probaRF_train = classifierRF.predict_proba(X_train)\n",
    "\n",
    "roc_scoreRF = roc_auc_score(np.array(y_test.values), prediction_probaRF[:, 1])\n",
    "roc_scoreRF_train = roc_auc_score(np.array(y_train.values), prediction_probaRF_train[:, 1])\n",
    "\n",
    "print(\"Accuracy: %f | AUC: %f\" % (accuracy_score(y_test, predictionRF), roc_scoreRF))\n",
    "\n",
    "print(\"\\nFeatures importances:\")\n",
    "feature_importances_rf = list(zip(features_without_nan, classifierRF.feature_importances_))\n",
    "feature_importances_rf.sort(key=lambda x:x[1], reverse=True)\n",
    "for name, importance in feature_importances_rf:\n",
    "    print(\"%50s: %f\" %(name, importance))"
   ]
  },
  {
   "cell_type": "markdown",
   "metadata": {},
   "source": [
    "## Gradient boosted Trees"
   ]
  },
  {
   "cell_type": "code",
   "execution_count": 25,
   "metadata": {
    "collapsed": false,
    "scrolled": true
   },
   "outputs": [
    {
     "name": "stdout",
     "output_type": "stream",
     "text": [
      "Accuracy: 0.876448 | AUC: 0.957029\n",
      "\n",
      "Features importances:\n",
      "                                             Month: 0.070583\n",
      "                mean_Number.of.Unsuccessful.Grant.: 0.068593\n",
      "                  mean_Number.of.Successful.Grant.: 0.048453\n",
      "                                              Year: 0.046191\n",
      "                                           mean_B.: 0.042942\n",
      "      Contract.Value.Band...see.note.A.Reduced_MIA: 0.041911\n",
      "                        Contract.Value.Band.Values: 0.034243\n",
      "                 max_Number.of.Unsuccessful.Grant.: 0.028812\n",
      "                      Role.STUD_CHIEF_INVESTIGATOR: 0.028497\n",
      "                        Sponsor.Code.Reduced_Other: 0.023028\n",
      "                                           mean_C.: 0.022796\n",
      "                                           mean_A.: 0.021651\n",
      "                   Grant.Category.Code.Reduced_30B: 0.021334\n",
      "                   min_Number.of.Successful.Grant.: 0.020950\n",
      "                       Role.EXT_CHIEF_INVESTIGATOR: 0.016000\n",
      "                                          mean_A..: 0.015937\n",
      "                   Grant.Category.Code.Reduced_10B: 0.015820\n",
      "                   Grant.Category.Code.Reduced_MIA: 0.015311\n",
      "                                    cardinal_Role.: 0.013508\n",
      "                          Sponsor.Code.Reduced_59C: 0.013226\n",
      "                         Role.DELEGATED_RESEARCHER: 0.013169\n",
      "                   Grant.Category.Code.Reduced_10A: 0.012999\n",
      "                   max_Number.of.Successful.Grant.: 0.012172\n",
      "                   Grant.Category.Code.Reduced_20A: 0.011417\n",
      "       Contract.Value.Band...see.note.A.Reduced_B : 0.010290\n",
      "                          Sponsor.Code.Reduced_24D: 0.010092\n",
      "                 min_Number.of.Unsuccessful.Grant.: 0.010028\n",
      "                               RFCD.Percentage.32x: 0.009958\n",
      "                                SEO.Percentage.65x: 0.009692\n",
      "                           Sponsor.Code.Reduced_4D: 0.009423\n",
      "                          Sponsor.Code.Reduced_MIA: 0.008829\n",
      "                   Grant.Category.Code.Reduced_20C: 0.008349\n",
      "                                      Role.STUDRES: 0.008061\n",
      "                          Sponsor.Code.Reduced_21A: 0.008039\n",
      "                               RFCD.Percentage.27x: 0.007914\n",
      "                                min_Year.of.Birth.: 0.007473\n",
      "                                max_Year.of.Birth.: 0.007445\n",
      "                                SEO.Percentage.73x: 0.007152\n",
      "                                SEO.Percentage.76x: 0.007132\n",
      "                   Country.of.Birth.Eastern Europe: 0.007099\n",
      "                           Sponsor.Code.Reduced_2B: 0.006423\n",
      "                          Sponsor.Code.Reduced_40D: 0.006381\n",
      "                    Country.of.Birth.Great Britain: 0.006237\n",
      "                               RFCD.Percentage.28x: 0.006201\n",
      "                   Grant.Category.Code.Reduced_50A: 0.005711\n",
      "       Contract.Value.Band...see.note.A.Reduced_A : 0.005693\n",
      "                                SEO.Percentage.63x: 0.005580\n",
      "                           Role.CHIEF_INVESTIGATOR: 0.005551\n",
      "                               RFCD.Percentage.21x: 0.005338\n",
      "                                SEO.Percentage.70x: 0.005230\n",
      "                                   With.PHD.Ratio.: 0.005041\n",
      "                         Role.PRINCIPAL_SUPERVISOR: 0.004960\n",
      "                          Sponsor.Code.Reduced_97A: 0.004960\n",
      "                                SEO.Percentage.77x: 0.004948\n",
      "                                SEO.Percentage.78x: 0.004939\n",
      "                 Grant.Category.Code.Reduced_Other: 0.004684\n",
      "                                SEO.Percentage.62x: 0.004573\n",
      "    Contract.Value.Band...see.note.A.Reduced_Other: 0.004552\n",
      "                   Country.of.Birth.Western Europe: 0.004527\n",
      "                               mean_Year.of.Birth.: 0.004178\n",
      "                                SEO.Percentage.61x: 0.003956\n",
      "                          Sponsor.Code.Reduced_29A: 0.003627\n",
      "                   Grant.Category.Code.Reduced_30C: 0.003504\n",
      "                               RFCD.Percentage.42x: 0.003498\n",
      "                                SEO.Percentage.68x: 0.003491\n",
      "                    Country.of.Birth.North America: 0.003465\n",
      " No..of.Years.in.Uni.at.Time.of.Grant.more than 15: 0.003462\n",
      "                          Sponsor.Code.Reduced_32D: 0.003403\n",
      "                               RFCD.Percentage.25x: 0.003373\n",
      "                               RFCD.Percentage.34x: 0.003229\n",
      "                               RFCD.Percentage.30x: 0.003107\n",
      "                      Country.of.Birth.New Zealand: 0.003029\n",
      "                               RFCD.Percentage.35x: 0.003020\n",
      "                                SEO.Percentage.72x: 0.002840\n",
      "                               RFCD.Percentage.29x: 0.002765\n",
      "                     Country.of.Birth.Asia Pacific: 0.002741\n",
      "       Contract.Value.Band...see.note.A.Reduced_C : 0.002704\n",
      "                        Country.of.Birth.Australia: 0.002616\n",
      "                               RFCD.Percentage.41x: 0.002558\n",
      "                                SEO.Percentage.67x: 0.002550\n",
      "       Contract.Value.Band...see.note.A.Reduced_E : 0.002484\n",
      "                     Country.of.Birth.The Americas: 0.002414\n",
      "                           Sponsor.Code.Reduced_5A: 0.002227\n",
      "                          Sponsor.Code.Reduced_34B: 0.002091\n",
      "                                     With.PHD.Sum.: 0.002052\n",
      "                                SEO.Percentage.64x: 0.001879\n",
      "                               RFCD.Percentage.26x: 0.001748\n",
      "       Contract.Value.Band...see.note.A.Reduced_F : 0.001720\n",
      "     No..of.Years.in.Uni.at.Time.of.Grant.>=0 to 5: 0.001671\n",
      "                   Grant.Category.Code.Reduced_30D: 0.001658\n",
      "                     Country.of.Birth.South Africa: 0.001621\n",
      "       Contract.Value.Band...see.note.A.Reduced_G : 0.001605\n",
      "     No..of.Years.in.Uni.at.Time.of.Grant.>5 to 10: 0.001602\n",
      "                               RFCD.Percentage.33x: 0.001569\n",
      "                                SEO.Percentage.66x: 0.001380\n",
      "       Contract.Value.Band...see.note.A.Reduced_D : 0.000992\n",
      "                               RFCD.Percentage.31x: 0.000982\n",
      "                               RFCD.Percentage.23x: 0.000928\n",
      "                                SEO.Percentage.75x: 0.000888\n",
      "  No..of.Years.in.Uni.at.Time.of.Grant.Less than 0: 0.000819\n",
      "                               RFCD.Percentage.36x: 0.000687\n",
      "                               RFCD.Percentage.37x: 0.000563\n",
      "                               RFCD.Percentage.40x: 0.000516\n",
      "                               RFCD.Percentage.39x: 0.000349\n",
      "                               RFCD.Percentage.38x: 0.000273\n",
      "    No..of.Years.in.Uni.at.Time.of.Grant.>10 to 15: 0.000117\n",
      "                                     Role.HONVISIT: 0.000000\n",
      "                             Role.EXTERNAL_ADVISOR: 0.000000\n",
      "           Country.of.Birth.Middle East and Africa: 0.000000\n",
      "                               RFCD.Percentage.44x: 0.000000\n",
      "                               RFCD.Percentage.24x: 0.000000\n",
      "                               RFCD.Percentage.99x: 0.000000\n",
      "                               RFCD.Percentage.43x: 0.000000\n",
      "                                SEO.Percentage.69x: 0.000000\n",
      "                                SEO.Percentage.99x: 0.000000\n",
      "                                SEO.Percentage.74x: 0.000000\n",
      "                                SEO.Percentage.71x: 0.000000\n",
      "       Contract.Value.Band...see.note.A.Reduced_H : 0.000000\n"
     ]
    }
   ],
   "source": [
    "from sklearn.ensemble import GradientBoostingClassifier\n",
    "\n",
    "paramerers_gbt = {'n_estimators': 250}\n",
    "# paramerers_gbt = {'n_estimators': 100}\n",
    "gbt = GradientBoostingClassifier(**paramerers_gbt)\n",
    "classifier_gbt = gbt.fit(X_train, y_train)\n",
    "prediction_gbt = classifier_gbt.predict(X_test)\n",
    "prediction_proba_gbt = classifier_gbt.predict_proba(X_test)\n",
    "prediction_proba_gbt_train = classifier_gbt.predict_proba(X_train)\n",
    "\n",
    "roc_score_gbt = roc_auc_score(np.array(y_test.values), prediction_proba_gbt[:, 1])\n",
    "roc_score_gbt_train = roc_auc_score(np.array(y_train.values), prediction_proba_gbt_train[:, 1])\n",
    "\n",
    "print(\"Accuracy: %f | AUC: %f\" % (accuracy_score(y_test, prediction_gbt), roc_score_gbt))\n",
    "\n",
    "print(\"\\nFeatures importances:\")\n",
    "feature_importances_gbt = list(zip(features_without_nan, classifier_gbt.feature_importances_))\n",
    "feature_importances_gbt.sort(key=lambda x:x[1], reverse=True)\n",
    "for name, importance in feature_importances_gbt:\n",
    "    print(\"%50s: %f\" %(name, importance))"
   ]
  },
  {
   "cell_type": "markdown",
   "metadata": {},
   "source": [
    "## Combined model"
   ]
  },
  {
   "cell_type": "code",
   "execution_count": 27,
   "metadata": {
    "collapsed": false
   },
   "outputs": [
    {
     "data": {
      "text/plain": [
       "(0.99811085761777574, 0.96404046252070574)"
      ]
     },
     "execution_count": 27,
     "metadata": {},
     "output_type": "execute_result"
    }
   ],
   "source": [
    "probability_combined = np.mean((prediction_probaRF[:, 1], prediction_proba_gbt[:, 1]), axis=0)\n",
    "combined_score = roc_auc_score(np.array(y_test.values), probability_combined)\n",
    "\n",
    "probability_combined_train = np.mean((prediction_probaRF_train[:, 1], prediction_proba_gbt_train[:, 1]), axis=0)\n",
    "combined_score_train = roc_auc_score(np.array(y_train.values), probability_combined_train)\n",
    "\n",
    "combined_score_train, combined_score\n",
    "\n",
    "############## Other type of combinaisons\n",
    "# probability_combined1 = np.mean((prediction_probaRF[:, 1], prediction_proba_gbt[:, 1]), axis=0)\n",
    "# probability_combined2 = (roc_scoreRF * prediction_probaRF[:, 1] + roc_score_gbt * prediction_proba_gbt[:, 1]) / (roc_scoreRF + roc_score_gbt)\n",
    "\n",
    "# probability_combined3 = np.mean((prediction_probaRF[:, 1], prediction_proba_gbt[:, 1], prediction_proba_log[:, 1]), axis=0)\n",
    "# probability_combined4 = (roc_scoreRF * prediction_probaRF[:, 1] + roc_score_gbt * prediction_proba_gbt[:, 1] + roc_score_log * prediction_proba_log[:, 1]) / (roc_scoreRF + roc_score_gbt + roc_score_log)\n",
    "\n",
    "# print(roc_auc_score(np.array(y_test.values), probability_combined1))\n",
    "# print(roc_auc_score(np.array(y_test.values), probability_combined2))\n",
    "# print(roc_auc_score(np.array(y_test.values), probability_combined3))\n",
    "# print(roc_auc_score(np.array(y_test.values), probability_combined4))"
   ]
  },
  {
   "cell_type": "markdown",
   "metadata": {},
   "source": [
    "## ROC curves"
   ]
  },
  {
   "cell_type": "code",
   "execution_count": 28,
   "metadata": {
    "collapsed": false,
    "scrolled": false
   },
   "outputs": [
    {
     "data": {
      "image/png": "[encoded data removed]",
      "text/plain": [
       "<matplotlib.figure.Figure at 0x25f2c565390>"
      ]
     },
     "metadata": {},
     "output_type": "display_data"
    }
   ],
   "source": [
    "%matplotlib inline\n",
    "import matplotlib.pyplot as plt\n",
    "from sklearn.metrics import roc_curve\n",
    "\n",
    "fpr_log, tpr_log, _ = roc_curve(np.array(y_test.values), prediction_proba_log[:, 1])\n",
    "fpr_rf, tpr_rf, _ = roc_curve(np.array(y_test.values), prediction_probaRF[:, 1])\n",
    "fpr_gbt, tpr_gbt, _ = roc_curve(np.array(y_test.values), prediction_proba_gbt[:, 1])\n",
    "fpr_combined, tpr_combined, _ = roc_curve(np.array(y_test.values), probability_combined)\n",
    "\n",
    "plt.figure(figsize=(14,10))\n",
    "plt.plot(fpr_log, tpr_log, 'b', label='Logistic')\n",
    "plt.plot(fpr_rf, tpr_rf, 'g', label='Random forest')\n",
    "plt.plot(fpr_gbt, tpr_gbt, 'r', label='GBT')\n",
    "plt.plot(fpr_combined, tpr_combined, 'm', label='Combined')\n",
    "plt.legend(loc=0)\n",
    "plt.show()"
   ]
  },
  {
   "cell_type": "markdown",
   "metadata": {},
   "source": [
    "# ROC curve and performances comparisons"
   ]
  },
  {
   "cell_type": "code",
   "execution_count": 29,
   "metadata": {
    "collapsed": false
   },
   "outputs": [
    {
     "data": {
      "image/png": "[encoded data removed]",
      "text/plain": [
       "<matplotlib.figure.Figure at 0x25f21026358>"
      ]
     },
     "metadata": {},
     "output_type": "display_data"
    }
   ],
   "source": [
    "plt.figure(figsize=(24,8))\n",
    "\n",
    "plt.subplot(121)\n",
    "fpr_log, tpr_log, _ = roc_curve(np.array(y_test.values), prediction_proba_log[:, 1])\n",
    "fpr_rf, tpr_rf, _ = roc_curve(np.array(y_test.values), prediction_probaRF[:, 1])\n",
    "fpr_gbt, tpr_gbt, _ = roc_curve(np.array(y_test.values), prediction_proba_gbt[:, 1])\n",
    "fpr_combined, tpr_combined, _ = roc_curve(np.array(y_test.values), probability_combined)\n",
    "plt.plot(fpr_log, tpr_log, 'b', label='Logistic')\n",
    "plt.plot(fpr_rf, tpr_rf, 'g', label='Random forest')\n",
    "plt.plot(fpr_gbt, tpr_gbt, 'r', label='GBT')\n",
    "plt.plot(fpr_combined, tpr_combined, 'm', label='Combined')\n",
    "plt.legend(loc=0)\n",
    "\n",
    "plt.subplot(122)\n",
    "plt.scatter(roc_score_log_train, roc_score_log, label=\"Logistic\", c=\"b\", s=100)\n",
    "plt.scatter(roc_scoreRF_train, roc_scoreRF, label=\"RF\", c=\"g\", s=100)\n",
    "plt.scatter(roc_score_gbt_train, roc_score_gbt, label=\"GBT\", c=\"r\", s=100)\n",
    "plt.scatter(combined_score_train, combined_score, label=\"Combined\", c=\"m\", s=100)\n",
    "plt.plot([0, 1.01], [0,1.01], \"k\")\n",
    "plt.xlim((0.88,1.01))\n",
    "plt.ylim((0.88,1.01))\n",
    "plt.legend(loc=2)\n",
    "\n",
    "plt.show()"
   ]
  },
  {
   "cell_type": "markdown",
   "metadata": {},
   "source": [
    "# Similarity in top features for RF & GBT"
   ]
  },
  {
   "cell_type": "code",
   "execution_count": 27,
   "metadata": {
    "collapsed": false
   },
   "outputs": [
    {
     "name": "stdout",
     "output_type": "stream",
     "text": [
      "                                     Random Forest |                             Gradient Boosted Trees\n",
      "-------------------------------------------------------------------------------------------------------\n",
      "                mean_Number.of.Unsuccessful.Grant. |                                              Month\n",
      "      Contract.Value.Band...see.note.A.Reduced_MIA |                 mean_Number.of.Unsuccessful.Grant.\n",
      "                 max_Number.of.Unsuccessful.Grant. |                                               Year\n",
      "                        Contract.Value.Band.Values |                   mean_Number.of.Successful.Grant.\n",
      "                                             Month |       Contract.Value.Band...see.note.A.Reduced_MIA\n",
      "                  mean_Number.of.Successful.Grant. |                                            mean_B.\n",
      "                 min_Number.of.Unsuccessful.Grant. |                         Contract.Value.Band.Values\n",
      "                   max_Number.of.Successful.Grant. |                  max_Number.of.Unsuccessful.Grant.\n",
      "                   min_Number.of.Successful.Grant. |                       Role.STUD_CHIEF_INVESTIGATOR\n",
      "                                              Year |                                            mean_A.\n",
      "                          Sponsor.Code.Reduced_MIA |                                            mean_C.\n",
      "                   Grant.Category.Code.Reduced_MIA |                         Sponsor.Code.Reduced_Other\n",
      "                                           mean_A. |                    min_Number.of.Successful.Grant.\n",
      "                                           mean_B. |                    Grant.Category.Code.Reduced_30B\n",
      "                                          mean_A.. |                                           mean_A..\n",
      "\n",
      "Similarity: 0.733333333333\n"
     ]
    }
   ],
   "source": [
    "top_nb = 15\n",
    "top_features_rf = [feature for feature, importance in feature_importances_rf[:top_nb]]\n",
    "top_features_gbt = [feature for feature, importance in feature_importances_gbt[:top_nb]]\n",
    "\n",
    "print(\"%50s | %50s\" % (\"Random Forest\", \"Gradient Boosted Trees\"))\n",
    "print(\"-\"*103)\n",
    "for feature_rf, feature_gbt in zip(top_features_rf, top_features_gbt):\n",
    "    print(\"%50s | %50s\" % (feature_rf, feature_gbt))\n",
    "\n",
    "similarity = [1 if feature in top_features_gbt else 0 for feature in top_features_rf]\n",
    "print(\"\\nSimilarity: \"+str(np.mean(similarity)))"
   ]
  },
  {
   "cell_type": "markdown",
   "metadata": {
    "collapsed": false
   },
   "source": [
    "# Parameters tuning (Grid Search)"
   ]
  },
  {
   "cell_type": "code",
   "execution_count": null,
   "metadata": {
    "collapsed": false,
    "scrolled": true
   },
   "outputs": [],
   "source": [
    "from sklearn.grid_search import GridSearchCV\n",
    "\n",
    "parameters = {'n_estimators': [i for i in range(500, 1300, 100)], 'max_features': [i for i in range(1, 10)]}\n",
    "GridsearchSVM = GridSearchCV(RandomForestClassifier(), parameters, cv=3, verbose=10, scoring='roc_auc', n_jobs=7)\n",
    "GridsearchSVM.fit(X_train, y_train)\n",
    "\n",
    "print(GridsearchSVM.best_params_, GridsearchSVM.best_score_)\n",
    "\n",
    "# roc_auc_score(np.array(y_test.values), GridsearchSVM.best_estimator_.predict_proba(X_test)[:, 1])\n",
    "# roc_auc_score(np.array(y_test.values), GridsearchSVM.best_estimator_.fit(X_train, y_train).predict_proba(X_test)[:, 1])"
   ]
  },
  {
   "cell_type": "code",
   "execution_count": null,
   "metadata": {
    "collapsed": false
   },
   "outputs": [],
   "source": [
    "X_train1, X_train2 = train1_df[features_without_nan], train2_df[features_without_nan]\n",
    "y_train1, y_train2 = train1_df[\"Grant.Status\"].astype(int), train2_df[\"Grant.Status\"].astype(int)"
   ]
  },
  {
   "cell_type": "code",
   "execution_count": null,
   "metadata": {
    "collapsed": false
   },
   "outputs": [],
   "source": [
    "parameters = {'n_estimators': [i for i in range(1500, 2000, 100)], 'max_features': [i for i in range(12, 15)]}\n",
    "\n",
    "best_score, best_params = grid_search_no_cv(parameters, X_train1, X_train2, y_train1, y_train2, RandomForestClassifier)\n",
    "best_score, best_params"
   ]
  },
  {
   "cell_type": "code",
   "execution_count": 85,
   "metadata": {
    "collapsed": false
   },
   "outputs": [
    {
     "name": "stdout",
     "output_type": "stream",
     "text": [
      "*  1/15 | 0.963735 | {'n_estimators': 1500, 'max_features': 12}\n",
      "   2/15 | 0.962947 | {'n_estimators': 1600, 'max_features': 12}\n",
      "*  3/15 | 0.963815 | {'n_estimators': 1700, 'max_features': 12}\n",
      "   4/15 | 0.963260 | {'n_estimators': 1800, 'max_features': 12}\n",
      "   5/15 | 0.963011 | {'n_estimators': 1900, 'max_features': 12}\n",
      "   6/15 | 0.962866 | {'n_estimators': 1500, 'max_features': 13}\n",
      "   7/15 | 0.963695 | {'n_estimators': 1600, 'max_features': 13}\n",
      "   8/15 | 0.963027 | {'n_estimators': 1700, 'max_features': 13}\n",
      "   9/15 | 0.963148 | {'n_estimators': 1800, 'max_features': 13}\n",
      "  10/15 | 0.962754 | {'n_estimators': 1900, 'max_features': 13}\n",
      "  11/15 | 0.962866 | {'n_estimators': 1500, 'max_features': 14}\n",
      "  12/15 | 0.962762 | {'n_estimators': 1600, 'max_features': 14}\n",
      "  13/15 | 0.963244 | {'n_estimators': 1700, 'max_features': 14}\n",
      "  14/15 | 0.963003 | {'n_estimators': 1800, 'max_features': 14}\n",
      "  15/15 | 0.962706 | {'n_estimators': 1900, 'max_features': 14}\n"
     ]
    }
   ],
   "source": [
    "parameters = {'n_estimators': [i for i in range(1500, 2000, 100)], 'max_features': [i for i in range(12, 15)]}\n",
    "\n",
    "best_score, best_params = grid_search_no_cv(parameters, X_train, X_test, y_train, y_test, RandomForestClassifier)"
   ]
  },
  {
   "cell_type": "code",
   "execution_count": 84,
   "metadata": {
    "collapsed": false
   },
   "outputs": [
    {
     "name": "stdout",
     "output_type": "stream",
     "text": [
      "*  1/10 | 0.949695 | {'n_estimators': 50}\n",
      "*  2/10 | 0.955179 | {'n_estimators': 100}\n",
      "*  3/10 | 0.955678 | {'n_estimators': 150}\n",
      "*  4/10 | 0.956771 | {'n_estimators': 200}\n",
      "*  5/10 | 0.956948 | {'n_estimators': 250}\n",
      "*  6/10 | 0.957704 | {'n_estimators': 300}\n",
      "*  7/10 | 0.957833 | {'n_estimators': 350}\n",
      "*  8/10 | 0.958926 | {'n_estimators': 400}\n",
      "*  9/10 | 0.959007 | {'n_estimators': 450}\n",
      "* 10/10 | 0.959152 | {'n_estimators': 500}\n"
     ]
    }
   ],
   "source": [
    "parameters = {'n_estimators': [i for i in range(50, 550, 50)]}\n",
    "\n",
    "best_score, best_params = grid_search_no_cv(parameters, X_train, X_test, y_train, y_test, GradientBoostingClassifier, parallel=False)"
   ]
  },
  {
   "cell_type": "code",
   "execution_count": null,
   "metadata": {
    "collapsed": false
   },
   "outputs": [],
   "source": [
    "best_score, best_params = grid_search_no_cv(parameters, X_train1, X_train2, y_train1, y_train2, GradientBoostingClassifier, parallel=False)"
   ]
  }
 ],
 "metadata": {
  "anaconda-cloud": {},
  "kernelspec": {
   "display_name": "Python 3",
   "language": "python",
   "name": "python3"
  },
  "language_info": {
   "codemirror_mode": {
    "name": "ipython",
    "version": 3
   },
   "file_extension": ".py",
   "mimetype": "text/x-python",
   "name": "python",
   "nbconvert_exporter": "python",
   "pygments_lexer": "ipython3",
   "version": "3.5.2"
  }
 },
 "nbformat": 4,
 "nbformat_minor": 0
}
